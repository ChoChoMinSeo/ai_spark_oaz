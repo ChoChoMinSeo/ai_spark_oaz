{
 "cells": [
  {
   "cell_type": "code",
   "execution_count": 1,
   "metadata": {},
   "outputs": [],
   "source": [
    "import numpy as np\n",
    "import matplotlib.pyplot as plt\n",
    "import tifffile as tiff\n",
    "import os\n",
    "import pandas as pd"
   ]
  },
  {
   "cell_type": "code",
   "execution_count": 2,
   "metadata": {},
   "outputs": [
    {
     "ename": "FileNotFoundError",
     "evalue": "[Errno 2] No such file or directory: '.dataset/train_img'",
     "output_type": "error",
     "traceback": [
      "\u001b[0;31m---------------------------------------------------------------------------\u001b[0m",
      "\u001b[0;31mFileNotFoundError\u001b[0m                         Traceback (most recent call last)",
      "\u001b[1;32m/home/cvip-09/Desktop/github/ai_spark_oaz/jiwoo/tifftonumpy.ipynb Cell 2\u001b[0m line \u001b[0;36m2\n\u001b[1;32m      <a href='vscode-notebook-cell:/home/cvip-09/Desktop/github/ai_spark_oaz/jiwoo/tifftonumpy.ipynb#W1sZmlsZQ%3D%3D?line=0'>1</a>\u001b[0m train_img_root\u001b[39m=\u001b[39m\u001b[39m'\u001b[39m\u001b[39m.dataset/train_img\u001b[39m\u001b[39m'\u001b[39m\n\u001b[0;32m----> <a href='vscode-notebook-cell:/home/cvip-09/Desktop/github/ai_spark_oaz/jiwoo/tifftonumpy.ipynb#W1sZmlsZQ%3D%3D?line=1'>2</a>\u001b[0m train_images\u001b[39m=\u001b[39m os\u001b[39m.\u001b[39mlistdir(train_img_root)\n\u001b[1;32m      <a href='vscode-notebook-cell:/home/cvip-09/Desktop/github/ai_spark_oaz/jiwoo/tifftonumpy.ipynb#W1sZmlsZQ%3D%3D?line=2'>3</a>\u001b[0m \u001b[39mfor\u001b[39;00m image \u001b[39min\u001b[39;00m train_images:\n\u001b[1;32m      <a href='vscode-notebook-cell:/home/cvip-09/Desktop/github/ai_spark_oaz/jiwoo/tifftonumpy.ipynb#W1sZmlsZQ%3D%3D?line=3'>4</a>\u001b[0m     train_img_path\u001b[39m=\u001b[39m os\u001b[39m.\u001b[39mpath\u001b[39m.\u001b[39mjoin(train_img_root, image)\n",
      "\u001b[0;31mFileNotFoundError\u001b[0m: [Errno 2] No such file or directory: '.dataset/train_img'"
     ]
    }
   ],
   "source": [
    "train_img_root='./dataset/train_img'\n",
    "train_images= os.listdir(train_img_root)\n",
    "for image in train_images:\n",
    "    train_img_path= os.path.join(train_img_root, image)\n",
    "    img = tiff.imread(train_img_path)\n",
    "    img_array = np.array(img)\n",
    "    print(img_array)                   \n",
    "    plt.imshow(img) "
   ]
  },
  {
   "cell_type": "code",
   "execution_count": null,
   "metadata": {},
   "outputs": [],
   "source": []
  }
 ],
 "metadata": {
  "kernelspec": {
   "display_name": "base",
   "language": "python",
   "name": "python3"
  },
  "language_info": {
   "codemirror_mode": {
    "name": "ipython",
    "version": 3
   },
   "file_extension": ".py",
   "mimetype": "text/x-python",
   "name": "python",
   "nbconvert_exporter": "python",
   "pygments_lexer": "ipython3",
   "version": "3.11.5"
  }
 },
 "nbformat": 4,
 "nbformat_minor": 2
}
